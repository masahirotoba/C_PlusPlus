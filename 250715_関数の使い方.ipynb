{
  "nbformat": 4,
  "nbformat_minor": 0,
  "metadata": {
    "colab": {
      "provenance": [],
      "authorship_tag": "ABX9TyO7fGjpw3BSXPBKM+I3zSpl",
      "include_colab_link": true
    },
    "kernelspec": {
      "name": "python3",
      "display_name": "Python 3"
    },
    "language_info": {
      "name": "python"
    }
  },
  "cells": [
    {
      "cell_type": "markdown",
      "metadata": {
        "id": "view-in-github",
        "colab_type": "text"
      },
      "source": [
        "<a href=\"https://colab.research.google.com/github/masahirotoba/C_PlusPlus/blob/main/250715_%E9%96%A2%E6%95%B0%E3%81%AE%E4%BD%BF%E3%81%84%E6%96%B9.ipynb\" target=\"_parent\"><img src=\"https://colab.research.google.com/assets/colab-badge.svg\" alt=\"Open In Colab\"/></a>"
      ]
    },
    {
      "cell_type": "code",
      "source": [
        "def say_something():\n",
        "  print('Hello World')\n",
        "\n",
        "say_something()"
      ],
      "metadata": {
        "colab": {
          "base_uri": "https://localhost:8080/"
        },
        "id": "I79LR3KV8mBA",
        "outputId": "74a84481-0916-4e2e-e5eb-2bd85503d4db"
      },
      "execution_count": 1,
      "outputs": [
        {
          "output_type": "stream",
          "name": "stdout",
          "text": [
            "Hello World\n"
          ]
        }
      ]
    },
    {
      "cell_type": "code",
      "source": [
        "def say_something():\n",
        "  print('Hello World')\n",
        "\n",
        "say_something"
      ],
      "metadata": {
        "colab": {
          "base_uri": "https://localhost:8080/",
          "height": 103
        },
        "id": "zTHILXxs9MOI",
        "outputId": "8947f6ce-a2d3-488c-9269-509fbc597015"
      },
      "execution_count": 9,
      "outputs": [
        {
          "output_type": "execute_result",
          "data": {
            "text/plain": [
              "<function __main__.say_something()>"
            ],
            "text/html": [
              "<div style=\"max-width:800px; border: 1px solid var(--colab-border-color);\"><style>\n",
              "      pre.function-repr-contents {\n",
              "        overflow-x: auto;\n",
              "        padding: 8px 12px;\n",
              "        max-height: 500px;\n",
              "      }\n",
              "\n",
              "      pre.function-repr-contents.function-repr-contents-collapsed {\n",
              "        cursor: pointer;\n",
              "        max-height: 100px;\n",
              "      }\n",
              "    </style>\n",
              "    <pre style=\"white-space: initial; background:\n",
              "         var(--colab-secondary-surface-color); padding: 8px 12px;\n",
              "         border-bottom: 1px solid var(--colab-border-color);\"><b>say_something</b><br/>def say_something()</pre><pre class=\"function-repr-contents function-repr-contents-collapsed\" style=\"\"><a class=\"filepath\" style=\"display:none\" href=\"#\">/tmp/ipython-input-9-4174658301.py</a>&lt;no docstring&gt;</pre></div>"
            ]
          },
          "metadata": {},
          "execution_count": 9
        }
      ]
    },
    {
      "cell_type": "code",
      "source": [
        "def say_something():\n",
        "  print('Hello World')\n",
        "\n",
        "print(type, (say_something))"
      ],
      "metadata": {
        "colab": {
          "base_uri": "https://localhost:8080/"
        },
        "id": "LZMoc9q98uxM",
        "outputId": "33ea5912-a3a0-47ff-b285-847ada625264"
      },
      "execution_count": 8,
      "outputs": [
        {
          "output_type": "stream",
          "name": "stdout",
          "text": [
            "<class 'type'> <function say_something at 0x793bb9991620>\n"
          ]
        }
      ]
    },
    {
      "cell_type": "code",
      "source": [
        "def say_something():\n",
        "  print('Hello World')\n",
        "\n",
        "f = say_something\n",
        "f()"
      ],
      "metadata": {
        "colab": {
          "base_uri": "https://localhost:8080/"
        },
        "id": "-eb34e4H8zN4",
        "outputId": "81b32656-7a4d-492c-8ac1-20ea93603331"
      },
      "execution_count": 7,
      "outputs": [
        {
          "output_type": "stream",
          "name": "stdout",
          "text": [
            "Hello World\n"
          ]
        }
      ]
    },
    {
      "cell_type": "code",
      "source": [
        "def keisan():\n",
        "  num = 10\n",
        "  return num\n",
        "\n",
        "resulet = keisan()\n",
        "print(resulet)\n",
        "\n",
        "keisan()"
      ],
      "metadata": {
        "colab": {
          "base_uri": "https://localhost:8080/"
        },
        "id": "4BsNB-sw9Hdr",
        "outputId": "c2ee5ec1-8d40-4d4c-a013-46c66d8cc779"
      },
      "execution_count": 12,
      "outputs": [
        {
          "output_type": "stream",
          "name": "stdout",
          "text": [
            "10\n"
          ]
        },
        {
          "output_type": "execute_result",
          "data": {
            "text/plain": [
              "10"
            ]
          },
          "metadata": {},
          "execution_count": 12
        }
      ]
    },
    {
      "cell_type": "code",
      "source": [
        "def color(name):\n",
        "  print(name)\n",
        "\n",
        "color('赤色')"
      ],
      "metadata": {
        "colab": {
          "base_uri": "https://localhost:8080/"
        },
        "id": "FKyHr8z09gUH",
        "outputId": "e792bc27-ea0f-4fcf-f000-107b898c5814"
      },
      "execution_count": 16,
      "outputs": [
        {
          "output_type": "stream",
          "name": "stdout",
          "text": [
            "赤色\n"
          ]
        }
      ]
    },
    {
      "cell_type": "code",
      "source": [
        "def what_is_this(color):\n",
        "  if color == 'red':\n",
        "    return 'tomato'\n",
        "  elif color == 'green':\n",
        "    return 'green pepper'\n",
        "  else:\n",
        "    return 'unknown'\n",
        "\n",
        "retult = what_is_this('red')\n",
        "print(retult)\n",
        "\n",
        "print(what_is_this('red'))\n",
        "print(what_is_this('green'))\n",
        "print(what_is_this('blue'))"
      ],
      "metadata": {
        "colab": {
          "base_uri": "https://localhost:8080/"
        },
        "id": "9l4ZTjiz9vfH",
        "outputId": "26ecf5ae-b51f-4323-b8a2-7d3efc6e35b4"
      },
      "execution_count": 18,
      "outputs": [
        {
          "output_type": "stream",
          "name": "stdout",
          "text": [
            "tomato\n",
            "tomato\n",
            "green pepper\n",
            "unknown\n"
          ]
        }
      ]
    },
    {
      "cell_type": "code",
      "source": [
        "def menu(entree, drink, desert):\n",
        "  print('主食：' + entree)\n",
        "  print('飲料：' + drink)\n",
        "  print('デザート：' + desert)\n",
        "\n",
        "menu('ごはん', 'お茶', 'クッキー')"
      ],
      "metadata": {
        "colab": {
          "base_uri": "https://localhost:8080/"
        },
        "id": "EIcZXj7s-Px1",
        "outputId": "ac4076a3-3921-4314-c4b2-f6e71cd6500f"
      },
      "execution_count": 19,
      "outputs": [
        {
          "output_type": "stream",
          "name": "stdout",
          "text": [
            "主食：ごはん\n",
            "飲料：お茶\n",
            "デザート：クッキー\n"
          ]
        }
      ]
    },
    {
      "cell_type": "code",
      "source": [
        "def menu(entree, drink, desert):\n",
        "  print('主食：' + entree)\n",
        "  print('飲料：' + drink)\n",
        "  print('デザート：' + desert)\n",
        "\n",
        "menu(entree='ごはん', drink='お茶', desert='クッキー')"
      ],
      "metadata": {
        "colab": {
          "base_uri": "https://localhost:8080/"
        },
        "id": "AlpbHXJN-rpS",
        "outputId": "6234aada-b92a-40f3-ac73-2f679dbcfb45"
      },
      "execution_count": 20,
      "outputs": [
        {
          "output_type": "stream",
          "name": "stdout",
          "text": [
            "主食：ごはん\n",
            "飲料：お茶\n",
            "デザート：クッキー\n"
          ]
        }
      ]
    },
    {
      "cell_type": "code",
      "source": [
        "def menu(entree='ごはん', drink='お茶', desert='クッキー'):\n",
        "  print('主食：' + entree)\n",
        "  print('飲料：' + drink)\n",
        "  print('デザート：' + desert)\n",
        "\n",
        "menu()"
      ],
      "metadata": {
        "colab": {
          "base_uri": "https://localhost:8080/"
        },
        "id": "-x1upnCH-yoL",
        "outputId": "21b0de25-b032-4a84-df76-3416a514f37a"
      },
      "execution_count": 21,
      "outputs": [
        {
          "output_type": "stream",
          "name": "stdout",
          "text": [
            "主食：ごはん\n",
            "飲料：お茶\n",
            "デザート：クッキー\n"
          ]
        }
      ]
    },
    {
      "cell_type": "code",
      "source": [
        "def outer(a, b):\n",
        "\n",
        "  def plus(c, d):\n",
        "    return c + d\n",
        "\n",
        "  r = plus(a, b)\n",
        "  print(r)\n",
        "\n",
        "outer(1, 2)"
      ],
      "metadata": {
        "colab": {
          "base_uri": "https://localhost:8080/"
        },
        "id": "TJhPHqHG_BEC",
        "outputId": "a74a0b99-eab6-4ae5-aef6-9cf35b9a74c6"
      },
      "execution_count": 23,
      "outputs": [
        {
          "output_type": "stream",
          "name": "stdout",
          "text": [
            "3\n"
          ]
        }
      ]
    },
    {
      "cell_type": "code",
      "source": [
        "def add_num(a, b):\n",
        "  return a + b\n",
        "\n",
        "print('start')\n",
        "r = add_num(10, 20)\n",
        "print('end')\n",
        "\n",
        "print(r)"
      ],
      "metadata": {
        "colab": {
          "base_uri": "https://localhost:8080/"
        },
        "id": "0eEKERDKDvNV",
        "outputId": "d09fe8ea-f035-47f8-9606-0c4cef218e87"
      },
      "execution_count": 24,
      "outputs": [
        {
          "output_type": "stream",
          "name": "stdout",
          "text": [
            "start\n",
            "end\n",
            "30\n"
          ]
        }
      ]
    },
    {
      "cell_type": "code",
      "source": [
        "def print_info(func):\n",
        "  def wrapper(*args, **kwargs):\n",
        "    print('start')\n",
        "    result = func(*args, **kwargs)\n",
        "    print('end')\n",
        "    return result\n",
        "  return wrapper\n",
        "\n",
        "@print_info\n",
        "def add_num(a, b):\n",
        "  return a + b\n",
        "\n",
        "r = add_num(10, 20)\n",
        "print(r)"
      ],
      "metadata": {
        "colab": {
          "base_uri": "https://localhost:8080/"
        },
        "id": "RQO3pkKMEK4c",
        "outputId": "942a1e6c-85a2-4562-de1f-a2ad8db70e73"
      },
      "execution_count": 27,
      "outputs": [
        {
          "output_type": "stream",
          "name": "stdout",
          "text": [
            "start\n",
            "end\n",
            "30\n"
          ]
        }
      ]
    },
    {
      "cell_type": "code",
      "source": [],
      "metadata": {
        "id": "DZRqdDfiEfwA"
      },
      "execution_count": null,
      "outputs": []
    }
  ]
}